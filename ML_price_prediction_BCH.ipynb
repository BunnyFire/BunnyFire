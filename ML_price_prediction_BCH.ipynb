{
  "nbformat": 4,
  "nbformat_minor": 0,
  "metadata": {
    "colab": {
      "name": "ML_price_prediction_BCH.ipynb",
      "provenance": [],
      "authorship_tag": "ABX9TyP6smrtG2EIX8BiL7OhhMww",
      "include_colab_link": true
    },
    "kernelspec": {
      "name": "python3",
      "display_name": "Python 3"
    }
  },
  "cells": [
    {
      "cell_type": "markdown",
      "metadata": {
        "id": "view-in-github",
        "colab_type": "text"
      },
      "source": [
        "<a href=\"https://colab.research.google.com/github/BunnyFire/BunnyFire/blob/main/ML_price_prediction_BCH.ipynb\" target=\"_parent\"><img src=\"https://colab.research.google.com/assets/colab-badge.svg\" alt=\"Open In Colab\"/></a>"
      ]
    },
    {
      "cell_type": "code",
      "metadata": {
        "id": "lXfwCG9Qept3"
      },
      "source": [
        "#Prediction of BCH price for next 30 days \n",
        "#Today is 19/05/2021\n",
        "#Import the libraries"
      ],
      "execution_count": null,
      "outputs": []
    },
    {
      "cell_type": "code",
      "metadata": {
        "id": "uTQxaOhEfAs1"
      },
      "source": [
        "import pandas as pd\n",
        "import numpy as np"
      ],
      "execution_count": null,
      "outputs": []
    },
    {
      "cell_type": "code",
      "metadata": {
        "colab": {
          "resources": {
            "http://localhost:8080/nbextensions/google.colab/files.js": {
              "data": "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",
              "ok": true,
              "headers": [
                [
                  "content-type",
                  "application/javascript"
                ]
              ],
              "status": 200,
              "status_text": ""
            }
          },
          "base_uri": "https://localhost:8080/",
          "height": 72
        },
        "id": "mkdJWtgmfPzu",
        "outputId": "73ba86dc-be1e-4b71-8dbf-482020496816"
      },
      "source": [
        "#Load the data\n",
        "from google.colab import files\n",
        "uploaded = files.upload()"
      ],
      "execution_count": null,
      "outputs": [
        {
          "output_type": "display_data",
          "data": {
            "text/html": [
              "\n",
              "     <input type=\"file\" id=\"files-01782c17-fde6-4d50-b01a-b02b83f1cc75\" name=\"files[]\" multiple disabled\n",
              "        style=\"border:none\" />\n",
              "     <output id=\"result-01782c17-fde6-4d50-b01a-b02b83f1cc75\">\n",
              "      Upload widget is only available when the cell has been executed in the\n",
              "      current browser session. Please rerun this cell to enable.\n",
              "      </output>\n",
              "      <script src=\"/nbextensions/google.colab/files.js\"></script> "
            ],
            "text/plain": [
              "<IPython.core.display.HTML object>"
            ]
          },
          "metadata": {
            "tags": []
          }
        },
        {
          "output_type": "stream",
          "text": [
            "Saving BTC_USD_2020-05-31_2021-05-30-CoinDesk.csv to BTC_USD_2020-05-31_2021-05-30-CoinDesk.csv\n"
          ],
          "name": "stdout"
        }
      ]
    },
    {
      "cell_type": "code",
      "metadata": {
        "colab": {
          "base_uri": "https://localhost:8080/",
          "height": 266
        },
        "id": "xOGwFBIsf5eq",
        "outputId": "1f8b1f92-ca81-423d-dd9e-35caa29d6480"
      },
      "source": [
        "#Store the data into a variable\n",
        "df = pd.read_csv('BTC_USD_2020-05-31_2021-05-30-CoinDesk.csv')\n",
        "\n",
        "#Show the first 7 rows of the data\n",
        "df.head(7)"
      ],
      "execution_count": null,
      "outputs": [
        {
          "output_type": "execute_result",
          "data": {
            "text/html": [
              "<div>\n",
              "<style scoped>\n",
              "    .dataframe tbody tr th:only-of-type {\n",
              "        vertical-align: middle;\n",
              "    }\n",
              "\n",
              "    .dataframe tbody tr th {\n",
              "        vertical-align: top;\n",
              "    }\n",
              "\n",
              "    .dataframe thead th {\n",
              "        text-align: right;\n",
              "    }\n",
              "</style>\n",
              "<table border=\"1\" class=\"dataframe\">\n",
              "  <thead>\n",
              "    <tr style=\"text-align: right;\">\n",
              "      <th></th>\n",
              "      <th>Currency</th>\n",
              "      <th>Date</th>\n",
              "      <th>Closing Price (USD)</th>\n",
              "      <th>24h Open (USD)</th>\n",
              "      <th>24h High (USD)</th>\n",
              "      <th>24h Low (USD)</th>\n",
              "    </tr>\n",
              "  </thead>\n",
              "  <tbody>\n",
              "    <tr>\n",
              "      <th>0</th>\n",
              "      <td>BTC</td>\n",
              "      <td>2020-05-31</td>\n",
              "      <td>9688.324390</td>\n",
              "      <td>9434.033792</td>\n",
              "      <td>9732.943979</td>\n",
              "      <td>9334.912832</td>\n",
              "    </tr>\n",
              "    <tr>\n",
              "      <th>1</th>\n",
              "      <td>BTC</td>\n",
              "      <td>2020-06-01</td>\n",
              "      <td>9427.670084</td>\n",
              "      <td>9688.539932</td>\n",
              "      <td>9698.140854</td>\n",
              "      <td>9394.275387</td>\n",
              "    </tr>\n",
              "    <tr>\n",
              "      <th>2</th>\n",
              "      <td>BTC</td>\n",
              "      <td>2020-06-02</td>\n",
              "      <td>10268.581985</td>\n",
              "      <td>9427.232535</td>\n",
              "      <td>10357.789166</td>\n",
              "      <td>9417.354212</td>\n",
              "    </tr>\n",
              "    <tr>\n",
              "      <th>3</th>\n",
              "      <td>BTC</td>\n",
              "      <td>2020-06-03</td>\n",
              "      <td>9516.135443</td>\n",
              "      <td>10268.231877</td>\n",
              "      <td>10292.703097</td>\n",
              "      <td>9298.920950</td>\n",
              "    </tr>\n",
              "    <tr>\n",
              "      <th>4</th>\n",
              "      <td>BTC</td>\n",
              "      <td>2020-06-04</td>\n",
              "      <td>9667.060754</td>\n",
              "      <td>9516.379828</td>\n",
              "      <td>9680.206444</td>\n",
              "      <td>9406.971187</td>\n",
              "    </tr>\n",
              "    <tr>\n",
              "      <th>5</th>\n",
              "      <td>BTC</td>\n",
              "      <td>2020-06-05</td>\n",
              "      <td>9811.367095</td>\n",
              "      <td>9667.085402</td>\n",
              "      <td>9875.662127</td>\n",
              "      <td>9472.251048</td>\n",
              "    </tr>\n",
              "    <tr>\n",
              "      <th>6</th>\n",
              "      <td>BTC</td>\n",
              "      <td>2020-06-06</td>\n",
              "      <td>9659.661298</td>\n",
              "      <td>9811.829378</td>\n",
              "      <td>9860.231447</td>\n",
              "      <td>9619.617459</td>\n",
              "    </tr>\n",
              "  </tbody>\n",
              "</table>\n",
              "</div>"
            ],
            "text/plain": [
              "  Currency        Date  ...  24h High (USD)  24h Low (USD)\n",
              "0      BTC  2020-05-31  ...     9732.943979    9334.912832\n",
              "1      BTC  2020-06-01  ...     9698.140854    9394.275387\n",
              "2      BTC  2020-06-02  ...    10357.789166    9417.354212\n",
              "3      BTC  2020-06-03  ...    10292.703097    9298.920950\n",
              "4      BTC  2020-06-04  ...     9680.206444    9406.971187\n",
              "5      BTC  2020-06-05  ...     9875.662127    9472.251048\n",
              "6      BTC  2020-06-06  ...     9860.231447    9619.617459\n",
              "\n",
              "[7 rows x 6 columns]"
            ]
          },
          "metadata": {
            "tags": []
          },
          "execution_count": 29
        }
      ]
    },
    {
      "cell_type": "code",
      "metadata": {
        "id": "x-IvFJeegPhI"
      },
      "source": [
        "# Remove the date column\n",
        "df.drop(['Date'],1,inplace = True)\n",
        "df.drop(['Currency'],1,inplace = True)\n",
        "df.drop(['24h Open (USD)'],1,inplace = True)\n",
        "df.drop(['24h High (USD)'],1,inplace = True)\n",
        "df.drop(['24h Low (USD)'],1,inplace = True)"
      ],
      "execution_count": null,
      "outputs": []
    },
    {
      "cell_type": "code",
      "metadata": {
        "colab": {
          "base_uri": "https://localhost:8080/",
          "height": 266
        },
        "id": "7ptKa64MgmDe",
        "outputId": "c1643813-e44e-49a2-e46a-7b469a23953e"
      },
      "source": [
        "#Show the first 7 rows\n",
        "df.head(7)"
      ],
      "execution_count": null,
      "outputs": [
        {
          "output_type": "execute_result",
          "data": {
            "text/html": [
              "<div>\n",
              "<style scoped>\n",
              "    .dataframe tbody tr th:only-of-type {\n",
              "        vertical-align: middle;\n",
              "    }\n",
              "\n",
              "    .dataframe tbody tr th {\n",
              "        vertical-align: top;\n",
              "    }\n",
              "\n",
              "    .dataframe thead th {\n",
              "        text-align: right;\n",
              "    }\n",
              "</style>\n",
              "<table border=\"1\" class=\"dataframe\">\n",
              "  <thead>\n",
              "    <tr style=\"text-align: right;\">\n",
              "      <th></th>\n",
              "      <th>Closing Price (USD)</th>\n",
              "    </tr>\n",
              "  </thead>\n",
              "  <tbody>\n",
              "    <tr>\n",
              "      <th>0</th>\n",
              "      <td>9688.324390</td>\n",
              "    </tr>\n",
              "    <tr>\n",
              "      <th>1</th>\n",
              "      <td>9427.670084</td>\n",
              "    </tr>\n",
              "    <tr>\n",
              "      <th>2</th>\n",
              "      <td>10268.581985</td>\n",
              "    </tr>\n",
              "    <tr>\n",
              "      <th>3</th>\n",
              "      <td>9516.135443</td>\n",
              "    </tr>\n",
              "    <tr>\n",
              "      <th>4</th>\n",
              "      <td>9667.060754</td>\n",
              "    </tr>\n",
              "    <tr>\n",
              "      <th>5</th>\n",
              "      <td>9811.367095</td>\n",
              "    </tr>\n",
              "    <tr>\n",
              "      <th>6</th>\n",
              "      <td>9659.661298</td>\n",
              "    </tr>\n",
              "  </tbody>\n",
              "</table>\n",
              "</div>"
            ],
            "text/plain": [
              "   Closing Price (USD)\n",
              "0          9688.324390\n",
              "1          9427.670084\n",
              "2         10268.581985\n",
              "3          9516.135443\n",
              "4          9667.060754\n",
              "5          9811.367095\n",
              "6          9659.661298"
            ]
          },
          "metadata": {
            "tags": []
          },
          "execution_count": 31
        }
      ]
    },
    {
      "cell_type": "code",
      "metadata": {
        "id": "MgVRAYurtRzS"
      },
      "source": [
        "# A varible for predicting 'n' days into the future\n",
        "prediction_days = 30 #n = prediction_days = 30\n",
        "\n",
        "#Create another column shifted in 'n' units up\n",
        "df['Prediction'] = df[['Closing Price (USD)']].shift(-prediction_days)"
      ],
      "execution_count": null,
      "outputs": []
    },
    {
      "cell_type": "code",
      "metadata": {
        "colab": {
          "base_uri": "https://localhost:8080/",
          "height": 266
        },
        "id": "_tqIiwHUuRNI",
        "outputId": "e8b21671-5b06-427d-b39c-7a87ae7c2c7a"
      },
      "source": [
        "#Show the first 7 rows\n",
        "df.head(7)"
      ],
      "execution_count": null,
      "outputs": [
        {
          "output_type": "execute_result",
          "data": {
            "text/html": [
              "<div>\n",
              "<style scoped>\n",
              "    .dataframe tbody tr th:only-of-type {\n",
              "        vertical-align: middle;\n",
              "    }\n",
              "\n",
              "    .dataframe tbody tr th {\n",
              "        vertical-align: top;\n",
              "    }\n",
              "\n",
              "    .dataframe thead th {\n",
              "        text-align: right;\n",
              "    }\n",
              "</style>\n",
              "<table border=\"1\" class=\"dataframe\">\n",
              "  <thead>\n",
              "    <tr style=\"text-align: right;\">\n",
              "      <th></th>\n",
              "      <th>Closing Price (USD)</th>\n",
              "      <th>Prediction</th>\n",
              "    </tr>\n",
              "  </thead>\n",
              "  <tbody>\n",
              "    <tr>\n",
              "      <th>0</th>\n",
              "      <td>9688.324390</td>\n",
              "      <td>9188.061375</td>\n",
              "    </tr>\n",
              "    <tr>\n",
              "      <th>1</th>\n",
              "      <td>9427.670084</td>\n",
              "      <td>9148.444859</td>\n",
              "    </tr>\n",
              "    <tr>\n",
              "      <th>2</th>\n",
              "      <td>10268.581985</td>\n",
              "      <td>9236.316770</td>\n",
              "    </tr>\n",
              "    <tr>\n",
              "      <th>3</th>\n",
              "      <td>9516.135443</td>\n",
              "      <td>9097.797366</td>\n",
              "    </tr>\n",
              "    <tr>\n",
              "      <th>4</th>\n",
              "      <td>9667.060754</td>\n",
              "      <td>9094.324561</td>\n",
              "    </tr>\n",
              "    <tr>\n",
              "      <th>5</th>\n",
              "      <td>9811.367095</td>\n",
              "      <td>9124.653534</td>\n",
              "    </tr>\n",
              "    <tr>\n",
              "      <th>6</th>\n",
              "      <td>9659.661298</td>\n",
              "      <td>9055.464483</td>\n",
              "    </tr>\n",
              "  </tbody>\n",
              "</table>\n",
              "</div>"
            ],
            "text/plain": [
              "   Closing Price (USD)   Prediction\n",
              "0          9688.324390  9188.061375\n",
              "1          9427.670084  9148.444859\n",
              "2         10268.581985  9236.316770\n",
              "3          9516.135443  9097.797366\n",
              "4          9667.060754  9094.324561\n",
              "5          9811.367095  9124.653534\n",
              "6          9659.661298  9055.464483"
            ]
          },
          "metadata": {
            "tags": []
          },
          "execution_count": 33
        }
      ]
    },
    {
      "cell_type": "code",
      "metadata": {
        "colab": {
          "base_uri": "https://localhost:8080/",
          "height": 266
        },
        "id": "ug1VPOnduXAE",
        "outputId": "6a28c139-08e3-4259-d0ca-b48fa31c24c6"
      },
      "source": [
        "#Show last 7 days of the data\n",
        "df.tail(7)"
      ],
      "execution_count": null,
      "outputs": [
        {
          "output_type": "execute_result",
          "data": {
            "text/html": [
              "<div>\n",
              "<style scoped>\n",
              "    .dataframe tbody tr th:only-of-type {\n",
              "        vertical-align: middle;\n",
              "    }\n",
              "\n",
              "    .dataframe tbody tr th {\n",
              "        vertical-align: top;\n",
              "    }\n",
              "\n",
              "    .dataframe thead th {\n",
              "        text-align: right;\n",
              "    }\n",
              "</style>\n",
              "<table border=\"1\" class=\"dataframe\">\n",
              "  <thead>\n",
              "    <tr style=\"text-align: right;\">\n",
              "      <th></th>\n",
              "      <th>Closing Price (USD)</th>\n",
              "      <th>Prediction</th>\n",
              "    </tr>\n",
              "  </thead>\n",
              "  <tbody>\n",
              "    <tr>\n",
              "      <th>358</th>\n",
              "      <td>34259.548416</td>\n",
              "      <td>NaN</td>\n",
              "    </tr>\n",
              "    <tr>\n",
              "      <th>359</th>\n",
              "      <td>38085.789361</td>\n",
              "      <td>NaN</td>\n",
              "    </tr>\n",
              "    <tr>\n",
              "      <th>360</th>\n",
              "      <td>38290.448528</td>\n",
              "      <td>NaN</td>\n",
              "    </tr>\n",
              "    <tr>\n",
              "      <th>361</th>\n",
              "      <td>38915.004829</td>\n",
              "      <td>NaN</td>\n",
              "    </tr>\n",
              "    <tr>\n",
              "      <th>362</th>\n",
              "      <td>38717.769220</td>\n",
              "      <td>NaN</td>\n",
              "    </tr>\n",
              "    <tr>\n",
              "      <th>363</th>\n",
              "      <td>34898.008720</td>\n",
              "      <td>NaN</td>\n",
              "    </tr>\n",
              "    <tr>\n",
              "      <th>364</th>\n",
              "      <td>34535.522468</td>\n",
              "      <td>NaN</td>\n",
              "    </tr>\n",
              "  </tbody>\n",
              "</table>\n",
              "</div>"
            ],
            "text/plain": [
              "     Closing Price (USD)  Prediction\n",
              "358         34259.548416         NaN\n",
              "359         38085.789361         NaN\n",
              "360         38290.448528         NaN\n",
              "361         38915.004829         NaN\n",
              "362         38717.769220         NaN\n",
              "363         34898.008720         NaN\n",
              "364         34535.522468         NaN"
            ]
          },
          "metadata": {
            "tags": []
          },
          "execution_count": 9
        }
      ]
    },
    {
      "cell_type": "code",
      "metadata": {
        "colab": {
          "base_uri": "https://localhost:8080/"
        },
        "id": "1WpawBQ5ukCj",
        "outputId": "19a47fe2-b7bf-4160-9ad1-0ccadde001ff"
      },
      "source": [
        "#Create the independent data set\n",
        "#Convert the df to numpy array\n",
        "X= np.array(df.drop(['Prediction'],1))\n",
        "\n",
        "#Remove the last 'n' rows where 'n' is the prediction\n",
        "X = X[:len(df)-prediction_days]\n",
        "print(X)"
      ],
      "execution_count": null,
      "outputs": [
        {
          "output_type": "stream",
          "text": [
            "[[ 9688.32439037]\n",
            " [ 9427.67008414]\n",
            " [10268.58198473]\n",
            " [ 9516.13544309]\n",
            " [ 9667.06075426]\n",
            " [ 9811.3670946 ]\n",
            " [ 9659.66129819]\n",
            " [ 9677.05099451]\n",
            " [ 9737.45855879]\n",
            " [ 9791.92789977]\n",
            " [ 9786.14202048]\n",
            " [ 9874.96704752]\n",
            " [ 9260.83264099]\n",
            " [ 9464.22809682]\n",
            " [ 9458.6597544 ]\n",
            " [ 9351.95372801]\n",
            " [ 9441.76899555]\n",
            " [ 9510.66063729]\n",
            " [ 9457.62707441]\n",
            " [ 9398.64209362]\n",
            " [ 9279.76076517]\n",
            " [ 9353.07819619]\n",
            " [ 9289.10449144]\n",
            " [ 9680.9471279 ]\n",
            " [ 9609.68024553]\n",
            " [ 9311.13631832]\n",
            " [ 9252.63337177]\n",
            " [ 9171.73208577]\n",
            " [ 9022.153768  ]\n",
            " [ 9101.85005736]\n",
            " [ 9188.06137546]\n",
            " [ 9148.44485856]\n",
            " [ 9236.31677043]\n",
            " [ 9097.79736639]\n",
            " [ 9094.32456102]\n",
            " [ 9124.6535344 ]\n",
            " [ 9055.46448252]\n",
            " [ 9278.80563704]\n",
            " [ 9244.41581454]\n",
            " [ 9471.75997342]\n",
            " [ 9236.14325371]\n",
            " [ 9243.17525915]\n",
            " [ 9229.85975494]\n",
            " [ 9286.73704209]\n",
            " [ 9238.99375486]\n",
            " [ 9260.47098018]\n",
            " [ 9211.02643289]\n",
            " [ 9133.77783034]\n",
            " [ 9160.41059149]\n",
            " [ 9176.6863901 ]\n",
            " [ 9190.2715342 ]\n",
            " [ 9172.58833257]\n",
            " [ 9395.06444588]\n",
            " [ 9530.79088535]\n",
            " [ 9617.37786138]\n",
            " [ 9568.97472596]\n",
            " [ 9708.9491401 ]\n",
            " [ 9938.95122286]\n",
            " [11187.77972696]\n",
            " [10939.67014155]\n",
            " [11284.45898685]\n",
            " [11118.91841243]\n",
            " [11373.31725664]\n",
            " [11766.74829709]\n",
            " [11139.09838035]\n",
            " [11261.80633174]\n",
            " [11228.02632402]\n",
            " [11653.40758556]\n",
            " [11796.81736499]\n",
            " [11639.93541013]\n",
            " [11744.9120755 ]\n",
            " [11673.12323754]\n",
            " [11832.22730813]\n",
            " [11340.58234064]\n",
            " [11549.54631437]\n",
            " [11752.16865623]\n",
            " [11783.28341126]\n",
            " [11895.62694989]\n",
            " [11896.94717019]\n",
            " [12399.11188466]\n",
            " [12071.73890908]\n",
            " [11749.82950876]\n",
            " [11833.8973487 ]\n",
            " [11583.13894263]\n",
            " [11674.62435391]\n",
            " [11666.41012224]\n",
            " [11744.01269665]\n",
            " [11378.72602981]\n",
            " [11458.82259649]\n",
            " [11302.1209645 ]\n",
            " [11482.22568651]\n",
            " [11515.04443069]\n",
            " [11657.00393423]\n",
            " [11678.37325542]\n",
            " [11964.20867246]\n",
            " [11427.70260497]\n",
            " [10712.92064607]\n",
            " [10563.89693862]\n",
            " [10042.85485437]\n",
            " [10207.60500296]\n",
            " [10381.77610693]\n",
            " [10043.19644129]\n",
            " [10268.46091575]\n",
            " [10341.01598385]\n",
            " [10380.53959723]\n",
            " [10436.36540836]\n",
            " [10313.06857949]\n",
            " [10680.29756117]\n",
            " [10829.5053072 ]\n",
            " [11033.38352648]\n",
            " [10937.1112591 ]\n",
            " [10933.9311624 ]\n",
            " [11048.87927816]\n",
            " [10852.91013894]\n",
            " [10526.2028872 ]\n",
            " [10531.16456263]\n",
            " [10260.03301241]\n",
            " [10672.95680806]\n",
            " [10729.06960742]\n",
            " [10741.47646752]\n",
            " [10752.34544975]\n",
            " [10863.06572391]\n",
            " [10764.28437072]\n",
            " [10741.5795495 ]\n",
            " [10626.6009565 ]\n",
            " [10567.33019523]\n",
            " [10555.02867878]\n",
            " [10660.61118264]\n",
            " [10756.40458492]\n",
            " [10589.62639353]\n",
            " [10645.75478678]\n",
            " [10897.59543151]\n",
            " [11052.39508367]\n",
            " [11360.85271687]\n",
            " [11334.02674203]\n",
            " [11666.21170032]\n",
            " [11443.73279182]\n",
            " [11395.54736637]\n",
            " [11504.54900671]\n",
            " [11355.16043945]\n",
            " [11358.70637963]\n",
            " [11471.00254779]\n",
            " [11776.59299733]\n",
            " [11936.36291334]\n",
            " [13102.93446155]\n",
            " [13140.66928406]\n",
            " [12933.82356549]\n",
            " [13081.67255949]\n",
            " [13008.45325775]\n",
            " [13033.52427008]\n",
            " [13721.28222485]\n",
            " [13282.26034792]\n",
            " [13467.73178281]\n",
            " [13573.71050315]\n",
            " [13891.21683316]\n",
            " [13730.19731094]\n",
            " [13633.69821689]\n",
            " [13832.93840977]\n",
            " [14163.9768155 ]\n",
            " [15424.52767669]\n",
            " [15540.59659081]\n",
            " [14783.98167853]\n",
            " [15500.33425474]\n",
            " [15283.78013873]\n",
            " [15374.04438576]\n",
            " [15820.49524108]\n",
            " [16253.31027194]\n",
            " [16347.04492035]\n",
            " [15991.8330244 ]\n",
            " [15918.08012811]\n",
            " [16752.00298996]\n",
            " [17593.48641493]\n",
            " [17834.63653371]\n",
            " [17954.8580091 ]\n",
            " [18612.87067218]\n",
            " [18591.85660475]\n",
            " [18629.99553726]\n",
            " [18469.20046948]\n",
            " [19045.73646565]\n",
            " [18746.9348067 ]\n",
            " [17187.40627633]\n",
            " [17023.96140009]\n",
            " [17814.78027844]\n",
            " [18114.41434928]\n",
            " [19382.36058587]\n",
            " [18980.97745012]\n",
            " [19184.89784774]\n",
            " [19464.53170456]\n",
            " [18813.12476029]\n",
            " [19045.0202726 ]\n",
            " [19113.93339509]\n",
            " [19107.59979531]\n",
            " [18682.45783321]\n",
            " [18543.00704922]\n",
            " [18359.47660034]\n",
            " [18137.31937461]\n",
            " [18882.26017106]\n",
            " [19060.27690128]\n",
            " [19251.22400471]\n",
            " [19443.47635283]\n",
            " [21310.65626223]\n",
            " [22895.97623755]\n",
            " [23008.77625674]\n",
            " [23890.82264887]\n",
            " [23537.36989089]\n",
            " [23177.27099799]\n",
            " [23433.98075814]\n",
            " [23224.45413785]\n",
            " [23623.88553323]\n",
            " [24581.00617127]\n",
            " [26381.29623292]\n",
            " [26389.29026494]\n",
            " [26718.0294634 ]\n",
            " [26975.72956452]\n",
            " [28768.83620753]\n",
            " [29111.52156712]\n",
            " [29333.60512062]\n",
            " [32154.16736327]\n",
            " [33002.53642704]\n",
            " [31431.61227972]\n",
            " [34433.60651384]\n",
            " [36275.75634767]\n",
            " [39713.50785672]\n",
            " [40519.44859753]\n",
            " [40258.92398866]\n",
            " [38709.76537488]\n",
            " [34409.64237522]\n",
            " [34214.61026205]\n",
            " [37017.00750345]\n",
            " [38435.86351466]\n",
            " [36751.58497369]\n",
            " [36016.77960594]\n",
            " [36375.81137926]\n",
            " [36346.60950223]\n",
            " [36577.51964639]\n",
            " [35004.53262688]\n",
            " [30606.18267565]\n",
            " [33368.36593189]\n",
            " [32070.0974252 ]\n",
            " [32285.72613244]\n",
            " [32500.25596269]\n",
            " [32324.55565073]\n",
            " [30534.99937302]\n",
            " [33408.21833739]\n",
            " [34842.55739312]\n",
            " [34622.37323153]\n",
            " [33087.36986452]\n",
            " [33613.32076431]\n",
            " [35632.90195152]\n",
            " [37397.42636409]\n",
            " [37256.25211087]\n",
            " [37851.59659008]\n",
            " [40302.79979284]\n",
            " [38461.6814033 ]\n",
            " [44716.68546906]\n",
            " [46674.85168811]\n",
            " [45237.47568925]\n",
            " [47500.8975242 ]\n",
            " [47884.1828623 ]\n",
            " [47005.1906489 ]\n",
            " [49151.16757632]\n",
            " [48125.99219541]\n",
            " [48840.41447458]\n",
            " [52165.30255522]\n",
            " [51728.50879673]\n",
            " [55719.2043617 ]\n",
            " [54801.64864399]\n",
            " [57128.64260647]\n",
            " [54181.91464919]\n",
            " [48172.87747693]\n",
            " [48745.43298434]\n",
            " [48291.41208335]\n",
            " [45752.11491941]\n",
            " [46642.60607658]\n",
            " [45092.8065726 ]\n",
            " [49248.91401331]\n",
            " [47900.77687833]\n",
            " [50811.85517444]\n",
            " [48259.48707666]\n",
            " [49149.73082884]\n",
            " [48879.15190416]\n",
            " [50594.69857451]\n",
            " [51503.25813218]\n",
            " [54458.03781142]\n",
            " [56915.17393505]\n",
            " [57636.75796197]\n",
            " [57306.16626299]\n",
            " [60743.04182491]\n",
            " [60197.9019918 ]\n",
            " [56300.33410863]\n",
            " [56639.78394967]\n",
            " [58567.28378106]\n",
            " [57983.09474357]\n",
            " [58451.73146595]\n",
            " [58593.60245406]\n",
            " [57796.46737122]\n",
            " [54329.35863463]\n",
            " [54794.29771371]\n",
            " [52787.74552575]\n",
            " [52173.86798025]\n",
            " [54483.0457323 ]\n",
            " [56234.356105  ]\n",
            " [55343.92581533]\n",
            " [57627.6792491 ]\n",
            " [58734.47543372]\n",
            " [58724.66451663]\n",
            " [58984.61292993]\n",
            " [58821.62699444]\n",
            " [57517.79877314]\n",
            " [58177.40276373]\n",
            " [58843.55954021]\n",
            " [58040.18760188]\n",
            " [56508.94286388]\n",
            " [57880.90568386]\n",
            " [58171.9090187 ]\n",
            " [59295.95004401]\n",
            " [59822.90167743]\n",
            " [59853.19724227]\n",
            " [63223.88439079]\n",
            " [62926.5571759 ]\n",
            " [63346.78903511]\n",
            " [61965.7825981 ]\n",
            " [60574.44472823]\n",
            " [56850.83016569]\n",
            " [56224.10158771]\n",
            " [56608.76974839]\n",
            " [54144.42747606]\n",
            " [51965.05955941]\n",
            " [50669.14438218]\n",
            " [50733.76950364]\n",
            " [48542.95220298]\n",
            " [53558.70784462]\n",
            " [55123.86198142]\n",
            " [54591.51532554]\n",
            " [53260.29534115]]\n"
          ],
          "name": "stdout"
        }
      ]
    },
    {
      "cell_type": "code",
      "metadata": {
        "colab": {
          "base_uri": "https://localhost:8080/"
        },
        "id": "npiiN-KPvfr_",
        "outputId": "763f5afd-aadd-4cd3-bd6e-840138f162c1"
      },
      "source": [
        "#Create the dependent data Set\n",
        "#Convert the dataframe to a numpy array\n",
        "y = np.array(df['Prediction'])\n",
        "\n",
        "#Get all the values except the last 'n' rows\n",
        "\n",
        "y = y[:-prediction_days]\n",
        "print(y)"
      ],
      "execution_count": null,
      "outputs": [
        {
          "output_type": "stream",
          "text": [
            "[ 9188.06137546  9148.44485856  9236.31677043  9097.79736639\n",
            "  9094.32456102  9124.6535344   9055.46448252  9278.80563704\n",
            "  9244.41581454  9471.75997342  9236.14325371  9243.17525915\n",
            "  9229.85975494  9286.73704209  9238.99375486  9260.47098018\n",
            "  9211.02643289  9133.77783034  9160.41059149  9176.6863901\n",
            "  9190.2715342   9172.58833257  9395.06444588  9530.79088535\n",
            "  9617.37786138  9568.97472596  9708.9491401   9938.95122286\n",
            " 11187.77972696 10939.67014155 11284.45898685 11118.91841243\n",
            " 11373.31725664 11766.74829709 11139.09838035 11261.80633174\n",
            " 11228.02632402 11653.40758556 11796.81736499 11639.93541013\n",
            " 11744.9120755  11673.12323754 11832.22730813 11340.58234064\n",
            " 11549.54631437 11752.16865623 11783.28341126 11895.62694989\n",
            " 11896.94717019 12399.11188466 12071.73890908 11749.82950876\n",
            " 11833.8973487  11583.13894263 11674.62435391 11666.41012224\n",
            " 11744.01269665 11378.72602981 11458.82259649 11302.1209645\n",
            " 11482.22568651 11515.04443069 11657.00393423 11678.37325542\n",
            " 11964.20867246 11427.70260497 10712.92064607 10563.89693862\n",
            " 10042.85485437 10207.60500296 10381.77610693 10043.19644129\n",
            " 10268.46091575 10341.01598385 10380.53959723 10436.36540836\n",
            " 10313.06857949 10680.29756117 10829.5053072  11033.38352648\n",
            " 10937.1112591  10933.9311624  11048.87927816 10852.91013894\n",
            " 10526.2028872  10531.16456263 10260.03301241 10672.95680806\n",
            " 10729.06960742 10741.47646752 10752.34544975 10863.06572391\n",
            " 10764.28437072 10741.5795495  10626.6009565  10567.33019523\n",
            " 10555.02867878 10660.61118264 10756.40458492 10589.62639353\n",
            " 10645.75478678 10897.59543151 11052.39508367 11360.85271687\n",
            " 11334.02674203 11666.21170032 11443.73279182 11395.54736637\n",
            " 11504.54900671 11355.16043945 11358.70637963 11471.00254779\n",
            " 11776.59299733 11936.36291334 13102.93446155 13140.66928406\n",
            " 12933.82356549 13081.67255949 13008.45325775 13033.52427008\n",
            " 13721.28222485 13282.26034792 13467.73178281 13573.71050315\n",
            " 13891.21683316 13730.19731094 13633.69821689 13832.93840977\n",
            " 14163.9768155  15424.52767669 15540.59659081 14783.98167853\n",
            " 15500.33425474 15283.78013873 15374.04438576 15820.49524108\n",
            " 16253.31027194 16347.04492035 15991.8330244  15918.08012811\n",
            " 16752.00298996 17593.48641493 17834.63653371 17954.8580091\n",
            " 18612.87067218 18591.85660475 18629.99553726 18469.20046948\n",
            " 19045.73646565 18746.9348067  17187.40627633 17023.96140009\n",
            " 17814.78027844 18114.41434928 19382.36058587 18980.97745012\n",
            " 19184.89784774 19464.53170456 18813.12476029 19045.0202726\n",
            " 19113.93339509 19107.59979531 18682.45783321 18543.00704922\n",
            " 18359.47660034 18137.31937461 18882.26017106 19060.27690128\n",
            " 19251.22400471 19443.47635283 21310.65626223 22895.97623755\n",
            " 23008.77625674 23890.82264887 23537.36989089 23177.27099799\n",
            " 23433.98075814 23224.45413785 23623.88553323 24581.00617127\n",
            " 26381.29623292 26389.29026494 26718.0294634  26975.72956452\n",
            " 28768.83620753 29111.52156712 29333.60512062 32154.16736327\n",
            " 33002.53642704 31431.61227972 34433.60651384 36275.75634767\n",
            " 39713.50785672 40519.44859753 40258.92398866 38709.76537488\n",
            " 34409.64237522 34214.61026205 37017.00750345 38435.86351466\n",
            " 36751.58497369 36016.77960594 36375.81137926 36346.60950223\n",
            " 36577.51964639 35004.53262688 30606.18267565 33368.36593189\n",
            " 32070.0974252  32285.72613244 32500.25596269 32324.55565073\n",
            " 30534.99937302 33408.21833739 34842.55739312 34622.37323153\n",
            " 33087.36986452 33613.32076431 35632.90195152 37397.42636409\n",
            " 37256.25211087 37851.59659008 40302.79979284 38461.6814033\n",
            " 44716.68546906 46674.85168811 45237.47568925 47500.8975242\n",
            " 47884.1828623  47005.1906489  49151.16757632 48125.99219541\n",
            " 48840.41447458 52165.30255522 51728.50879673 55719.2043617\n",
            " 54801.64864399 57128.64260647 54181.91464919 48172.87747693\n",
            " 48745.43298434 48291.41208335 45752.11491941 46642.60607658\n",
            " 45092.8065726  49248.91401331 47900.77687833 50811.85517444\n",
            " 48259.48707666 49149.73082884 48879.15190416 50594.69857451\n",
            " 51503.25813218 54458.03781142 56915.17393505 57636.75796197\n",
            " 57306.16626299 60743.04182491 60197.9019918  56300.33410863\n",
            " 56639.78394967 58567.28378106 57983.09474357 58451.73146595\n",
            " 58593.60245406 57796.46737122 54329.35863463 54794.29771371\n",
            " 52787.74552575 52173.86798025 54483.0457323  56234.356105\n",
            " 55343.92581533 57627.6792491  58734.47543372 58724.66451663\n",
            " 58984.61292993 58821.62699444 57517.79877314 58177.40276373\n",
            " 58843.55954021 58040.18760188 56508.94286388 57880.90568386\n",
            " 58171.9090187  59295.95004401 59822.90167743 59853.19724227\n",
            " 63223.88439079 62926.5571759  63346.78903511 61965.7825981\n",
            " 60574.44472823 56850.83016569 56224.10158771 56608.76974839\n",
            " 54144.42747606 51965.05955941 50669.14438218 50733.76950364\n",
            " 48542.95220298 53558.70784462 55123.86198142 54591.51532554\n",
            " 53260.29534115 57302.64642408 57677.9752219  56427.04312502\n",
            " 57255.30683756 53658.84312082 57252.7021845  56583.84987917\n",
            " 57107.12067189 58788.20967893 58102.19142623 55715.54665129\n",
            " 56573.5554719  52147.82118698 49764.1320816  50032.69313676\n",
            " 47885.62525472 45604.61575361 43144.47129086 43196.04648002\n",
            " 39439.23763545 39756.08984854 36921.76780796 37490.9418876\n",
            " 34259.54841587 38085.78936062 38290.44852818 38915.0048286\n",
            " 38717.76921992 34898.00871956 34535.52246756]\n"
          ],
          "name": "stdout"
        }
      ]
    },
    {
      "cell_type": "code",
      "metadata": {
        "id": "KGCDrtCvwAU5"
      },
      "source": [
        "#Split the data into 80% training and 20% testing\n",
        "from sklearn.model_selection import train_test_split\n",
        "x_train, x_test, y_train, y_test = train_test_split(X, y, test_size = 0.2)"
      ],
      "execution_count": null,
      "outputs": []
    },
    {
      "cell_type": "code",
      "metadata": {
        "colab": {
          "base_uri": "https://localhost:8080/"
        },
        "id": "prTZTFDUxNyS",
        "outputId": "141993c6-7bf7-4072-8432-63b69cd10eb1"
      },
      "source": [
        "#Set the prediction_days_array= last 30 rows from the original data set\n",
        "prediction_days_array= np.array(df.drop(['Prediction'], 1))[-prediction_days:]\n",
        "print(prediction_days_array)"
      ],
      "execution_count": null,
      "outputs": [
        {
          "output_type": "stream",
          "text": [
            "[[57302.64642408]\n",
            " [57677.9752219 ]\n",
            " [56427.04312502]\n",
            " [57255.30683756]\n",
            " [53658.84312082]\n",
            " [57252.7021845 ]\n",
            " [56583.84987917]\n",
            " [57107.12067189]\n",
            " [58788.20967893]\n",
            " [58102.19142623]\n",
            " [55715.54665129]\n",
            " [56573.5554719 ]\n",
            " [52147.82118698]\n",
            " [49764.1320816 ]\n",
            " [50032.69313676]\n",
            " [47885.62525472]\n",
            " [45604.61575361]\n",
            " [43144.47129086]\n",
            " [43196.04648002]\n",
            " [39439.23763545]\n",
            " [39756.08984854]\n",
            " [36921.76780796]\n",
            " [37490.9418876 ]\n",
            " [34259.54841587]\n",
            " [38085.78936062]\n",
            " [38290.44852818]\n",
            " [38915.0048286 ]\n",
            " [38717.76921992]\n",
            " [34898.00871956]\n",
            " [34535.52246756]]\n"
          ],
          "name": "stdout"
        }
      ]
    },
    {
      "cell_type": "code",
      "metadata": {
        "colab": {
          "base_uri": "https://localhost:8080/"
        },
        "id": "VHcqcEoZx8zK",
        "outputId": "251b8867-4cd2-4b07-d92b-5e2cad059662"
      },
      "source": [
        "from sklearn.svm import SVR\n",
        "\n",
        "#Create and train the support vector machine using regression using radial basis function\n",
        "svr_rbf = SVR(kernel = 'rbf', C=1e3, gamma= 0.00001)\n",
        "svr_rbf.fit(x_train, y_train)"
      ],
      "execution_count": null,
      "outputs": [
        {
          "output_type": "execute_result",
          "data": {
            "text/plain": [
              "SVR(C=1000.0, cache_size=200, coef0=0.0, degree=3, epsilon=0.1, gamma=1e-05,\n",
              "    kernel='rbf', max_iter=-1, shrinking=True, tol=0.001, verbose=False)"
            ]
          },
          "metadata": {
            "tags": []
          },
          "execution_count": 38
        }
      ]
    },
    {
      "cell_type": "code",
      "metadata": {
        "colab": {
          "base_uri": "https://localhost:8080/"
        },
        "id": "i8z-1eSTyvVe",
        "outputId": "167dfc58-8c84-48f1-920a-e3e51c86554d"
      },
      "source": [
        "#Test the model\n",
        "svr_rbf_confidence = svr_rbf.score(x_test, y_test)\n",
        "print(\"svr_rbf_accuracy:\", svr_rbf_confidence)"
      ],
      "execution_count": null,
      "outputs": [
        {
          "output_type": "stream",
          "text": [
            "svr_rbf_accuracy: 0.5446772132500944\n"
          ],
          "name": "stdout"
        }
      ]
    },
    {
      "cell_type": "code",
      "metadata": {
        "colab": {
          "base_uri": "https://localhost:8080/"
        },
        "id": "xp0Zr7pKzlbi",
        "outputId": "c0c367ed-1768-4612-a75c-901225667bdb"
      },
      "source": [
        "#Print the predicted values\n",
        "svm_prediction = svr_rbf.predict(x_test)\n",
        "print(svm_prediction)\n",
        "\n",
        "print()\n",
        "\n",
        "print(y_test) #actual values"
      ],
      "execution_count": null,
      "outputs": [
        {
          "output_type": "stream",
          "text": [
            "[30915.31973541 13270.09858732 33011.61654769 28987.49653251\n",
            " 30322.68729203 16259.70937817 30946.33317129 30204.31291618\n",
            " 31804.30901736 13646.43992662 14275.04498601 16843.15524739\n",
            " 10973.00140019 34014.48658633 32624.31904832 29101.98133164\n",
            " 13955.98802544 29620.07764976 17240.60421483 13252.02118872\n",
            " 33757.0677532  13539.59752057 11146.41168756 32408.40289152\n",
            " 25043.69105593 10971.92539834 34069.04776225 31159.32962184\n",
            " 14976.31165884 11071.88104371 28101.95273749 29213.12683136\n",
            " 32513.62818409 17102.66724594 32362.75192532 30678.10490807\n",
            " 19347.3580179  30373.9097734  16378.72077626 17880.62061432\n",
            " 31178.02569758 16665.28623983 28622.72422154 12842.86380651\n",
            " 14491.29258716 30310.88414776 12877.59075103 16805.42223071\n",
            " 29082.912115   26572.39959329 30339.86603994 14217.16707077\n",
            " 30290.34339357 28061.33868516 31964.85279764 32344.21862648\n",
            " 17010.35632539 11093.74107609 32487.71155406 15190.01044037\n",
            " 24759.43215917 12936.5978711  14622.06757414 33502.10566798\n",
            " 15105.6940515  11558.44664867 11174.84373384]\n",
            "\n",
            "[50811.85517444 10764.28437072 53658.84312082 21310.65626223\n",
            " 55715.54665129 11666.21170032 47500.8975242  50032.69313676\n",
            " 49248.91401331 10260.03301241 13891.21683316 15374.04438576\n",
            " 11833.8973487  56427.04312502 48291.41208335 19060.27690128\n",
            " 14783.98167853 36751.58497369 11360.85271687 15820.49524108\n",
            " 60574.44472823 14163.9768155   9286.73704209 39756.08984854\n",
            " 18746.9348067   9172.58833257 56224.10158771 44716.68546906\n",
            " 13633.69821689  9211.02643289 23537.36989089 26975.72956452\n",
            " 37851.59659008 10680.29756117 63346.78903511 32324.55565073\n",
            " 10626.6009565  56508.94286388 11964.20867246 11187.77972696\n",
            " 54458.03781142 15283.78013873 18882.26017106 12399.11188466\n",
            " 10042.85485437 56300.33410863  9530.79088535 10341.01598385\n",
            " 34409.64237522 18543.00704922 32154.16736327 11261.80633174\n",
            " 34214.61026205 39713.50785672 58724.66451663 38085.78936062\n",
            " 11427.70260497  9568.97472596 30606.18267565 11139.09838035\n",
            " 18612.87067218 11749.82950876 15424.52767669 54144.42747606\n",
            "  9124.6535344   9708.9491401  11639.93541013]\n"
          ],
          "name": "stdout"
        }
      ]
    },
    {
      "cell_type": "code",
      "metadata": {
        "colab": {
          "base_uri": "https://localhost:8080/"
        },
        "id": "NpicwjKq0R5j",
        "outputId": "3a8819c1-b0a6-4f07-f29a-388e47610343"
      },
      "source": [
        "#Print the model for next 'n' = 30 days\n",
        "svm_prediction = svr_rbf.predict(prediction_days_array)\n",
        "print(svm_prediction)\n",
        "\n",
        "print()\n",
        "#Print actual values\n",
        "print(df)"
      ],
      "execution_count": null,
      "outputs": [
        {
          "output_type": "stream",
          "text": [
            "[33145.37306431 34546.72872551 33031.82086377 33020.6516494\n",
            " 30891.84738989 33014.97644026 32463.53910055 32852.47567655\n",
            " 34164.43053792 33248.31559687 31079.52043723 32490.81470524\n",
            " 32515.31506105 29668.29407811 29683.12172137 33298.61717623\n",
            " 30757.58589534 29620.07764977 29620.07764984 30096.90111496\n",
            " 30655.41472241 32106.19503987 31495.57958287 31195.35854341\n",
            " 30521.68520563 30747.93638893 30378.71378028 31071.75136803\n",
            " 31694.83660633 31875.29896362]\n",
            "\n",
            "     Closing Price (USD)   Prediction\n",
            "0            9688.324390  9188.061375\n",
            "1            9427.670084  9148.444859\n",
            "2           10268.581985  9236.316770\n",
            "3            9516.135443  9097.797366\n",
            "4            9667.060754  9094.324561\n",
            "..                   ...          ...\n",
            "360         38290.448528          NaN\n",
            "361         38915.004829          NaN\n",
            "362         38717.769220          NaN\n",
            "363         34898.008720          NaN\n",
            "364         34535.522468          NaN\n",
            "\n",
            "[365 rows x 2 columns]\n"
          ],
          "name": "stdout"
        }
      ]
    },
    {
      "cell_type": "code",
      "metadata": {
        "id": "3j0xs98lgy6y"
      },
      "source": [
        "#Plot the prediction for last 30 days\n",
        "df = pd.DataFrame(svm_prediction, columns= ['Price Prediction (USD)'])"
      ],
      "execution_count": null,
      "outputs": []
    },
    {
      "cell_type": "code",
      "metadata": {
        "colab": {
          "base_uri": "https://localhost:8080/"
        },
        "id": "2LS7H-gqm7Dp",
        "outputId": "6ca39f66-7f98-4a9b-98ba-98e5e7ec87e6"
      },
      "source": [
        "#Print the newly created dataframe\n",
        "print(df)"
      ],
      "execution_count": null,
      "outputs": [
        {
          "output_type": "stream",
          "text": [
            "    Price Prediction (USD)\n",
            "0             33145.373064\n",
            "1             34546.728726\n",
            "2             33031.820864\n",
            "3             33020.651649\n",
            "4             30891.847390\n",
            "5             33014.976440\n",
            "6             32463.539101\n",
            "7             32852.475677\n",
            "8             34164.430538\n",
            "9             33248.315597\n",
            "10            31079.520437\n",
            "11            32490.814705\n",
            "12            32515.315061\n",
            "13            29668.294078\n",
            "14            29683.121721\n",
            "15            33298.617176\n",
            "16            30757.585895\n",
            "17            29620.077650\n",
            "18            29620.077650\n",
            "19            30096.901115\n",
            "20            30655.414722\n",
            "21            32106.195040\n",
            "22            31495.579583\n",
            "23            31195.358543\n",
            "24            30521.685206\n",
            "25            30747.936389\n",
            "26            30378.713780\n",
            "27            31071.751368\n",
            "28            31694.836606\n",
            "29            31875.298964\n"
          ],
          "name": "stdout"
        }
      ]
    },
    {
      "cell_type": "code",
      "metadata": {
        "colab": {
          "base_uri": "https://localhost:8080/",
          "height": 299
        },
        "id": "U8vQySFYnDOy",
        "outputId": "ef839343-8825-4e35-c9c6-00560ba2393d"
      },
      "source": [
        "#Plot the newly created data frame:\n",
        "import matplotlib.pyplot as plt\n",
        "df.plot()"
      ],
      "execution_count": null,
      "outputs": [
        {
          "output_type": "execute_result",
          "data": {
            "text/plain": [
              "<matplotlib.axes._subplots.AxesSubplot at 0x7f992a910e50>"
            ]
          },
          "metadata": {
            "tags": []
          },
          "execution_count": 44
        },
        {
          "output_type": "display_data",
          "data": {
            "image/png": "[encoded data removed]",
            "text/plain": [
              "<Figure size 432x288 with 1 Axes>"
            ]
          },
          "metadata": {
            "tags": []
          }
        }
      ]
    },
    {
      "cell_type": "code",
      "metadata": {
        "colab": {
          "base_uri": "https://localhost:8080/",
          "height": 354
        },
        "id": "JNNfx6yPn43a",
        "outputId": "7124dff2-1f84-4c04-e41d-7ae09c187c85"
      },
      "source": [
        "import matplotlib.pyplot as plt\n",
        "plt.style.use('fivethirtyeight')\n",
        "prediction_BCH = df\n",
        "plt.figure(figsize = (12.2, 4.5))\n",
        "for c in prediction_BCH.columns.values:\n",
        "  plt.plot(prediction_BCH[c],label = c)\n",
        "\n",
        "plt.title('Price Prediction BTC')\n",
        "plt.xlabel('Days')\n",
        "plt.ylabel(' Crypto Price ($)')\n",
        "plt.legend(prediction_BCH.columns.values, loc = 'upper left')\n",
        "plt.show()"
      ],
      "execution_count": null,
      "outputs": [
        {
          "output_type": "display_data",
          "data": {
            "image/png": "[encoded data removed]",
            "text/plain": [
              "<Figure size 878.4x324 with 1 Axes>"
            ]
          },
          "metadata": {
            "tags": []
          }
        }
      ]
    },
    {
      "cell_type": "code",
      "metadata": {
        "id": "1ro203s6o346"
      },
      "source": [
        ""
      ],
      "execution_count": null,
      "outputs": []
    }
  ]
}